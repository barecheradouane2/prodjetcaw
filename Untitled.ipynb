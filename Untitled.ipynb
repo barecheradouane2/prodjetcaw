{
 "cells": [
  {
   "cell_type": "markdown",
   "id": "0017362b",
   "metadata": {},
   "source": [
    "title of the network"
   ]
  },
  {
   "cell_type": "markdown",
   "id": "0d6ddc81",
   "metadata": {},
   "source": [
    "This is introduction"
   ]
  },
  {
   "cell_type": "markdown",
   "id": "972f97ac",
   "metadata": {},
   "source": [
    "DATA SCIENCE LANGUAGES ARE:\n",
    "    1-python\n",
    "    2-R\n",
    "    3-SQL\n",
    "    4-Julia\n",
    "    5-Scala\n",
    "    6-Java\n",
    "    7-Julia\n",
    "    8-Spark\n",
    "    "
   ]
  },
  {
   "cell_type": "markdown",
   "id": "4eb164b1",
   "metadata": {},
   "source": [
    " Data Science libraries are:\n",
    " 1-NumPy\n",
    " 2-Pandas\n",
    " 3-Matplotlib\n",
    " 4-scikit-learn\n",
    " 5-TensorFlow\n",
    " 6-Keras\n",
    " 7-PyTorch\n",
    " 8-SciPy\n",
    " 9-Statsmodels\n",
    " 10-Seaborn"
   ]
  },
  {
   "cell_type": "markdown",
   "id": "9943cd8f",
   "metadata": {},
   "source": [
    "| Language   | Libraries/Frameworks                       | Description                                              |\n",
    "|------------|--------------------------------------------|----------------------------------------------------------|\n",
    "| Github     |                                             |   \n",
    "| R          | ggplot2, dplyr, caret, tidyr                | Designed for statistical computing and data analysis     |\n",
    "| SQL        | PostgreSQL, MySQL, SQLite                   | Essential for working with relational databases          |\n",
    "| Julia      | JuliaPro, Flux, MLJ                          | High-performance language for numerical computing        |\n",
    "| Scala      | Apache Spark, MLlib                          | Used for distributed computing and big data processing   |\n",
    "| Python     | NumPy, Pandas, Matplotlib, scikit-learn     |  Widely used for data manipulation, analysis, and MLdevelopment |\n",
    "| SAS        | SAS Base, SAS/STAT, SAS Enterprise Miner     | Widely used for advanced analytics and data management   |\n",
    "| Java       | Apache Hadoop, Weka                          | General-purpose language with big data and ML support    |\n",
    "| Julia      | Flux, DataFrames.jl, MLJ                      | High-level language for technical computing              |\n",
    "| Spark      | Apache Spark, MLlib                          | Distributed computing system for big data processing     |\n"
   ]
  },
  {
   "cell_type": "markdown",
   "id": "bf807f00",
   "metadata": {},
   "source": [
    "arithmetic expression :\n",
    "plus like 1+1=2;\n",
    "mutlitple like 3*4=12;\n"
   ]
  },
  {
   "cell_type": "code",
   "execution_count": 5,
   "id": "71a2dcb8",
   "metadata": {},
   "outputs": [
    {
     "data": {
      "text/plain": [
       "9"
      ]
     },
     "execution_count": 5,
     "metadata": {},
     "output_type": "execute_result"
    }
   ],
   "source": [
    "2*2+5"
   ]
  },
  {
   "cell_type": "code",
   "execution_count": 6,
   "id": "738f7dff",
   "metadata": {},
   "outputs": [
    {
     "name": "stdout",
     "output_type": "stream",
     "text": [
      "135 minutes is equal to 2.25 hours.\n"
     ]
    }
   ],
   "source": [
    "minutes = 135 \n",
    "\n",
    "hours = minutes / 60\n",
    "\n",
    "print(f\"{minutes} minutes is equal to {hours:.2f} hours.\")\n"
   ]
  },
  {
   "cell_type": "markdown",
   "id": "237dd87d",
   "metadata": {},
   "source": [
    " list Objectives are:\n",
    "\n",
    "1. First list \n",
    "2. Second list \n",
    "3. Third list\n",
    "4. Fourth list"
   ]
  },
  {
   "cell_type": "markdown",
   "id": "35b505a3",
   "metadata": {},
   "source": [
    "## Author\n",
    "\n",
    "Bareche Radouane"
   ]
  },
  {
   "cell_type": "code",
   "execution_count": null,
   "id": "e851c9e5",
   "metadata": {},
   "outputs": [],
   "source": []
  }
 ],
 "metadata": {
  "kernelspec": {
   "display_name": "Python 3 (ipykernel)",
   "language": "python",
   "name": "python3"
  },
  "language_info": {
   "codemirror_mode": {
    "name": "ipython",
    "version": 3
   },
   "file_extension": ".py",
   "mimetype": "text/x-python",
   "name": "python",
   "nbconvert_exporter": "python",
   "pygments_lexer": "ipython3",
   "version": "3.9.12"
  }
 },
 "nbformat": 4,
 "nbformat_minor": 5
}
